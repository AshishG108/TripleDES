{
 "cells": [
  {
   "cell_type": "code",
   "execution_count": 1,
   "id": "a4549283-3c31-4a91-8558-b0780be6933f",
   "metadata": {},
   "outputs": [
    {
     "name": "stdout",
     "output_type": "stream",
     "text": [
      "Requirement already satisfied: pycryptodome in c:\\users\\ashish\\anaconda3\\lib\\site-packages (3.20.0)\n",
      "Choose operation to be done:\n",
      "\t1- Encryption\n",
      "\t2- Decryption\n"
     ]
    },
    {
     "name": "stdin",
     "output_type": "stream",
     "text": [
      "Your Choice:  2\n",
      "File path:  C:\\Users\\ASHISH\\Documents\\Exposys project\\underwater-magic-world-8tyxt9yz.jpeg\n",
      "TDES key:  \n"
     ]
    },
    {
     "name": "stdout",
     "output_type": "stream",
     "text": [
      "Operation Done!\n"
     ]
    }
   ],
   "source": [
    " #Install pycryptodome from terminal \n",
    "!pip install pycryptodome\n",
    "\n",
    "# Then import DES3 for Encryption and md5 for key\n",
    "from Crypto.Cipher import DES3\n",
    "from hashlib import md5\n",
    "\n",
    "# For selecting operation from given choice\n",
    "while True:\n",
    "    print('Choose operation to be done:\\n\\t1- Encryption\\n\\t2- Decryption')\n",
    "    operation = input('Your Choice: ')\n",
    "    if operation not in ['1', '2']:\n",
    "        break\n",
    "        \n",
    "    # Image / File Path for operation\n",
    "    file_path = input('File path: ')\n",
    "    \n",
    "    # Key for performing Triple DES algorithm\n",
    "    key = input('TDES key: ')\n",
    "\n",
    "    # Encode given key to 16 byte ascii key with md5 operation\n",
    "    key_hash = md5(key.encode('ascii')).digest()\n",
    "\n",
    "    # Adjust key parity of generated Hash Key for Final Triple DES Key\n",
    "    tdes_key = DES3.adjust_key_parity(key_hash)\n",
    "    \n",
    "    #  Cipher with integration of Triple DES key, MODE_EAX for Confidentiality & Authentication\n",
    "    #  and nonce for generating random / pseudo random number which is used for authentication protocol\n",
    "    cipher = DES3.new(tdes_key, DES3.MODE_EAX, nonce=b'0')\n",
    "\n",
    "    # Open & read file from given path\n",
    "\n",
    "    with open(file_path, 'rb') as input_file:\n",
    "        file_bytes = input_file.read()\n",
    "        \n",
    "        if operation == '1':\n",
    "            # Perform Encryption operation\n",
    "            new_file_bytes = cipher.encrypt(file_bytes)\n",
    "        else:\n",
    "            # Perform Decryption operation\n",
    "            new_file_bytes = cipher.decrypt(file_bytes)\n",
    "    \n",
    "    # Write updated values in file from given path\n",
    "    with open(file_path, 'wb') as output_file:\n",
    "        output_file.write(new_file_bytes)\n",
    "        print('Operation Done!')\n",
    "        break\n",
    "       \n",
    "        \n",
    "# Code Complete!"
   ]
  },
  {
   "cell_type": "code",
   "execution_count": null,
   "id": "31f3f527-d732-46fe-bb74-77c4bfd10fc7",
   "metadata": {},
   "outputs": [],
   "source": []
  }
 ],
 "metadata": {
  "kernelspec": {
   "display_name": "Python 3 (ipykernel)",
   "language": "python",
   "name": "python3"
  },
  "language_info": {
   "codemirror_mode": {
    "name": "ipython",
    "version": 3
   },
   "file_extension": ".py",
   "mimetype": "text/x-python",
   "name": "python",
   "nbconvert_exporter": "python",
   "pygments_lexer": "ipython3",
   "version": "3.10.9"
  }
 },
 "nbformat": 4,
 "nbformat_minor": 5
}
